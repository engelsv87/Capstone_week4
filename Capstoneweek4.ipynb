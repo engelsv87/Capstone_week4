{
 "cells": [
  {
   "cell_type": "code",
   "execution_count": null,
   "id": "bb09da10",
   "metadata": {},
   "outputs": [],
   "source": [
    "La batalla de los vecindarios\n",
    "Tienda de café en Buenos Aires\n",
    "Introducción / Problema comercial\n",
    "Nuesto cliente es un inversor del área gastronómica, que desea abrir una tienda de café de especialidad en la ciudad de Buenos Aires. La persona en cuestión es un sommelier experto en café, y el público que espera atraer a su negocio es aquel que esté interesado en tomar café de primera calidad en un ambiente relajado. Por lo tanto, desea establecerse en un barrio donde ya haya cafeterías, para captar al público habituado a consumir en ese tipo de locales. El cliente desea que analicemos cada barrio de la ciudad, buscando la cantidad de cafeterías que tiene cada uno y las características de la mismas (popularidad, precio y opiniones de los usuarios).\n",
    "\n",
    "Datos a utilizar\n",
    "Se utilizarán las siguientes fuentes de datos para confeccionar el informe:\n",
    "\n",
    "Dataset con los barrios de la ciudad de Buenos Aires: Se utilizará el archivo disponible en https://cdn.buenosaires.gob.ar/datosabiertos/datasets/ministerio-de-educacion/barrios/barrios.geojson. Dado que cada barrio en este archivo es un polígono, se calculará un centroide y un radio para cada uno, que serán los datos de entrada para las consultas de FourSquare.\n",
    "FourSquare Place Search: Se buscarán todas las cafeterías presentes en cada barrio\n",
    "FourSquare Get Place Details: Se buscarán datos de popularidad, precio y rating para cada una de las cafeterías encontradas en el punto anterior.\n"
   ]
  }
 ],
 "metadata": {
  "kernelspec": {
   "display_name": "Python 3 (ipykernel)",
   "language": "python",
   "name": "python3"
  },
  "language_info": {
   "codemirror_mode": {
    "name": "ipython",
    "version": 3
   },
   "file_extension": ".py",
   "mimetype": "text/x-python",
   "name": "python",
   "nbconvert_exporter": "python",
   "pygments_lexer": "ipython3",
   "version": "3.9.12"
  }
 },
 "nbformat": 4,
 "nbformat_minor": 5
}
